{
  "nbformat": 4,
  "nbformat_minor": 0,
  "metadata": {
    "colab": {
      "provenance": [],
      "authorship_tag": "ABX9TyOOUUZ+W9ACFYWu/fOS7gUb",
      "include_colab_link": true
    },
    "kernelspec": {
      "name": "python3",
      "display_name": "Python 3"
    },
    "language_info": {
      "name": "python"
    }
  },
  "cells": [
    {
      "cell_type": "markdown",
      "metadata": {
        "id": "view-in-github",
        "colab_type": "text"
      },
      "source": [
        "<a href=\"https://colab.research.google.com/github/AprendaPracticando/AlmacenesDeDatos/blob/main/ADV04_Load.ipynb\" target=\"_parent\"><img src=\"https://colab.research.google.com/assets/colab-badge.svg\" alt=\"Open In Colab\"/></a>"
      ]
    },
    {
      "cell_type": "markdown",
      "source": [
        "# 04 Load usando pandas\n",
        "\n",
        "---"
      ],
      "metadata": {
        "id": "-0-B6AVdmz-2"
      }
    },
    {
      "cell_type": "code",
      "execution_count": 1,
      "metadata": {
        "id": "j35fqrPImzTv"
      },
      "outputs": [],
      "source": [
        "# Importando la librería de pandas\n",
        "\n",
        "import pandas as pd"
      ]
    },
    {
      "cell_type": "code",
      "source": [
        "# Se genera un diccionario con datos de empleados, para generar un DataFrame\n",
        "\n",
        "dir_empleado={\n",
        "    'id':[10,20,30,40,50,60,70,10],\n",
        "    'nombre':['Juan','Pedro','Ana','Cristina','Diana','Raúl',None,'Juan'],\n",
        "    'fecha_nac':['2005-01-23','2005-02-13','2005-04-04','2005-11-03',\n",
        "                 '2005-07-12','2005-09-28','2005-02-01','2005-01-23'],\n",
        "    'peso_kg':[65,55,47,66,84,49,50,65],\n",
        "    'cve_puesto':['AG', 'AG', 'JD', 'GG', 'AG', 'AO', 'AO', 'AG']\n",
        "}\n",
        "\n"
      ],
      "metadata": {
        "id": "vlybHnANoruJ"
      },
      "execution_count": 3,
      "outputs": []
    },
    {
      "cell_type": "code",
      "source": [
        "# Se genera un diccionario con datos de puestos, para generar un DataFrame\n",
        "\n",
        "dir_puestos={\n",
        "    'cve_puesto':['AG','JD','GG','AO'],\n",
        "    'desc_puesto':['AYUDANTE GENERAL','JEFE DE DEPARTAMENTO',\n",
        "                   'GERENTE GENERAL','AUXILIAR DE OPERACIONES'],\n",
        "    'salario':[6500.00,12345.50,25889.20,5850.35],\n",
        "    'nivel':[3,2,1,3]\n",
        "}\n",
        "\n"
      ],
      "metadata": {
        "id": "ZARJQPM7otji"
      },
      "execution_count": 2,
      "outputs": []
    },
    {
      "cell_type": "code",
      "source": [
        "# Creación de un DataFrame a partir de un diccionario\n",
        "\n",
        "empleados=pd.DataFrame(dir_empleado)\n",
        "\n",
        "# Muestra el contenido del DataFrame\n",
        "print(empleados)\n"
      ],
      "metadata": {
        "colab": {
          "base_uri": "https://localhost:8080/"
        },
        "id": "ltnJAFgTovyQ",
        "outputId": "42b102c0-119a-4f9e-a896-c2b5edfad9d0"
      },
      "execution_count": 4,
      "outputs": [
        {
          "output_type": "stream",
          "name": "stdout",
          "text": [
            "   id    nombre   fecha_nac  peso_kg cve_puesto\n",
            "0  10      Juan  2005-01-23       65         AG\n",
            "1  20     Pedro  2005-02-13       55         AG\n",
            "2  30       Ana  2005-04-04       47         JD\n",
            "3  40  Cristina  2005-11-03       66         GG\n",
            "4  50     Diana  2005-07-12       84         AG\n",
            "5  60      Raúl  2005-09-28       49         AO\n",
            "6  70      None  2005-02-01       50         AO\n",
            "7  10      Juan  2005-01-23       65         AG\n"
          ]
        }
      ]
    },
    {
      "cell_type": "code",
      "source": [
        "# Creación de un DataFrame a partir de un diccionario\n",
        "\n",
        "puestos=pd.DataFrame(dir_puestos)\n",
        "\n",
        "# Muestra el contenido del DataFrame\n",
        "print(puestos)"
      ],
      "metadata": {
        "colab": {
          "base_uri": "https://localhost:8080/"
        },
        "id": "vshl2dmVoyi4",
        "outputId": "6c0afa59-964e-4226-e5f8-049fe107e1d3"
      },
      "execution_count": 5,
      "outputs": [
        {
          "output_type": "stream",
          "name": "stdout",
          "text": [
            "  cve_puesto              desc_puesto   salario  nivel\n",
            "0         AG         AYUDANTE GENERAL   6500.00      3\n",
            "1         JD     JEFE DE DEPARTAMENTO  12345.50      2\n",
            "2         GG          GERENTE GENERAL  25889.20      1\n",
            "3         AO  AUXILIAR DE OPERACIONES   5850.35      3\n"
          ]
        }
      ]
    },
    {
      "cell_type": "markdown",
      "source": [
        "Como se puede apreciar el **atributo de coincidencia** es el que permite la unión de los campos de empleados y puestos. En este caso, el DataFrame *empleados* actúa como tabla débil, y *puestos* actúa como tabla fuerte."
      ],
      "metadata": {
        "id": "7xeo_EOFpaAc"
      }
    },
    {
      "cell_type": "code",
      "source": [
        "# Se anexan las columnas de puestos a empleados, y se guardan en un\n",
        "# nuevo DataFrame llamado master. Se integrarán las filas de ambos\n",
        "# DataFrames, siempre y cuando haya coincidencia de valores en la\n",
        "# columna cve_puesto.\n",
        "master=empleados.merge(puestos,\n",
        "                       on='cve_puesto',\n",
        "                       how='inner')\n",
        "\n",
        "# Ver los datos integrados.\n",
        "master"
      ],
      "metadata": {
        "colab": {
          "base_uri": "https://localhost:8080/",
          "height": 300
        },
        "id": "YxVJ_0LJp6__",
        "outputId": "a079ba46-be07-4203-9dcb-b0615db4e9cc"
      },
      "execution_count": 6,
      "outputs": [
        {
          "output_type": "execute_result",
          "data": {
            "text/plain": [
              "   id    nombre   fecha_nac  peso_kg cve_puesto              desc_puesto  \\\n",
              "0  10      Juan  2005-01-23       65         AG         AYUDANTE GENERAL   \n",
              "1  20     Pedro  2005-02-13       55         AG         AYUDANTE GENERAL   \n",
              "2  50     Diana  2005-07-12       84         AG         AYUDANTE GENERAL   \n",
              "3  10      Juan  2005-01-23       65         AG         AYUDANTE GENERAL   \n",
              "4  30       Ana  2005-04-04       47         JD     JEFE DE DEPARTAMENTO   \n",
              "5  40  Cristina  2005-11-03       66         GG          GERENTE GENERAL   \n",
              "6  60      Raúl  2005-09-28       49         AO  AUXILIAR DE OPERACIONES   \n",
              "7  70      None  2005-02-01       50         AO  AUXILIAR DE OPERACIONES   \n",
              "\n",
              "    salario  nivel  \n",
              "0   6500.00      3  \n",
              "1   6500.00      3  \n",
              "2   6500.00      3  \n",
              "3   6500.00      3  \n",
              "4  12345.50      2  \n",
              "5  25889.20      1  \n",
              "6   5850.35      3  \n",
              "7   5850.35      3  "
            ],
            "text/html": [
              "\n",
              "  <div id=\"df-6738b06b-8f69-4dcd-94a8-d5b486c6a182\">\n",
              "    <div class=\"colab-df-container\">\n",
              "      <div>\n",
              "<style scoped>\n",
              "    .dataframe tbody tr th:only-of-type {\n",
              "        vertical-align: middle;\n",
              "    }\n",
              "\n",
              "    .dataframe tbody tr th {\n",
              "        vertical-align: top;\n",
              "    }\n",
              "\n",
              "    .dataframe thead th {\n",
              "        text-align: right;\n",
              "    }\n",
              "</style>\n",
              "<table border=\"1\" class=\"dataframe\">\n",
              "  <thead>\n",
              "    <tr style=\"text-align: right;\">\n",
              "      <th></th>\n",
              "      <th>id</th>\n",
              "      <th>nombre</th>\n",
              "      <th>fecha_nac</th>\n",
              "      <th>peso_kg</th>\n",
              "      <th>cve_puesto</th>\n",
              "      <th>desc_puesto</th>\n",
              "      <th>salario</th>\n",
              "      <th>nivel</th>\n",
              "    </tr>\n",
              "  </thead>\n",
              "  <tbody>\n",
              "    <tr>\n",
              "      <th>0</th>\n",
              "      <td>10</td>\n",
              "      <td>Juan</td>\n",
              "      <td>2005-01-23</td>\n",
              "      <td>65</td>\n",
              "      <td>AG</td>\n",
              "      <td>AYUDANTE GENERAL</td>\n",
              "      <td>6500.00</td>\n",
              "      <td>3</td>\n",
              "    </tr>\n",
              "    <tr>\n",
              "      <th>1</th>\n",
              "      <td>20</td>\n",
              "      <td>Pedro</td>\n",
              "      <td>2005-02-13</td>\n",
              "      <td>55</td>\n",
              "      <td>AG</td>\n",
              "      <td>AYUDANTE GENERAL</td>\n",
              "      <td>6500.00</td>\n",
              "      <td>3</td>\n",
              "    </tr>\n",
              "    <tr>\n",
              "      <th>2</th>\n",
              "      <td>50</td>\n",
              "      <td>Diana</td>\n",
              "      <td>2005-07-12</td>\n",
              "      <td>84</td>\n",
              "      <td>AG</td>\n",
              "      <td>AYUDANTE GENERAL</td>\n",
              "      <td>6500.00</td>\n",
              "      <td>3</td>\n",
              "    </tr>\n",
              "    <tr>\n",
              "      <th>3</th>\n",
              "      <td>10</td>\n",
              "      <td>Juan</td>\n",
              "      <td>2005-01-23</td>\n",
              "      <td>65</td>\n",
              "      <td>AG</td>\n",
              "      <td>AYUDANTE GENERAL</td>\n",
              "      <td>6500.00</td>\n",
              "      <td>3</td>\n",
              "    </tr>\n",
              "    <tr>\n",
              "      <th>4</th>\n",
              "      <td>30</td>\n",
              "      <td>Ana</td>\n",
              "      <td>2005-04-04</td>\n",
              "      <td>47</td>\n",
              "      <td>JD</td>\n",
              "      <td>JEFE DE DEPARTAMENTO</td>\n",
              "      <td>12345.50</td>\n",
              "      <td>2</td>\n",
              "    </tr>\n",
              "    <tr>\n",
              "      <th>5</th>\n",
              "      <td>40</td>\n",
              "      <td>Cristina</td>\n",
              "      <td>2005-11-03</td>\n",
              "      <td>66</td>\n",
              "      <td>GG</td>\n",
              "      <td>GERENTE GENERAL</td>\n",
              "      <td>25889.20</td>\n",
              "      <td>1</td>\n",
              "    </tr>\n",
              "    <tr>\n",
              "      <th>6</th>\n",
              "      <td>60</td>\n",
              "      <td>Raúl</td>\n",
              "      <td>2005-09-28</td>\n",
              "      <td>49</td>\n",
              "      <td>AO</td>\n",
              "      <td>AUXILIAR DE OPERACIONES</td>\n",
              "      <td>5850.35</td>\n",
              "      <td>3</td>\n",
              "    </tr>\n",
              "    <tr>\n",
              "      <th>7</th>\n",
              "      <td>70</td>\n",
              "      <td>None</td>\n",
              "      <td>2005-02-01</td>\n",
              "      <td>50</td>\n",
              "      <td>AO</td>\n",
              "      <td>AUXILIAR DE OPERACIONES</td>\n",
              "      <td>5850.35</td>\n",
              "      <td>3</td>\n",
              "    </tr>\n",
              "  </tbody>\n",
              "</table>\n",
              "</div>\n",
              "      <button class=\"colab-df-convert\" onclick=\"convertToInteractive('df-6738b06b-8f69-4dcd-94a8-d5b486c6a182')\"\n",
              "              title=\"Convert this dataframe to an interactive table.\"\n",
              "              style=\"display:none;\">\n",
              "        \n",
              "  <svg xmlns=\"http://www.w3.org/2000/svg\" height=\"24px\"viewBox=\"0 0 24 24\"\n",
              "       width=\"24px\">\n",
              "    <path d=\"M0 0h24v24H0V0z\" fill=\"none\"/>\n",
              "    <path d=\"M18.56 5.44l.94 2.06.94-2.06 2.06-.94-2.06-.94-.94-2.06-.94 2.06-2.06.94zm-11 1L8.5 8.5l.94-2.06 2.06-.94-2.06-.94L8.5 2.5l-.94 2.06-2.06.94zm10 10l.94 2.06.94-2.06 2.06-.94-2.06-.94-.94-2.06-.94 2.06-2.06.94z\"/><path d=\"M17.41 7.96l-1.37-1.37c-.4-.4-.92-.59-1.43-.59-.52 0-1.04.2-1.43.59L10.3 9.45l-7.72 7.72c-.78.78-.78 2.05 0 2.83L4 21.41c.39.39.9.59 1.41.59.51 0 1.02-.2 1.41-.59l7.78-7.78 2.81-2.81c.8-.78.8-2.07 0-2.86zM5.41 20L4 18.59l7.72-7.72 1.47 1.35L5.41 20z\"/>\n",
              "  </svg>\n",
              "      </button>\n",
              "      \n",
              "  <style>\n",
              "    .colab-df-container {\n",
              "      display:flex;\n",
              "      flex-wrap:wrap;\n",
              "      gap: 12px;\n",
              "    }\n",
              "\n",
              "    .colab-df-convert {\n",
              "      background-color: #E8F0FE;\n",
              "      border: none;\n",
              "      border-radius: 50%;\n",
              "      cursor: pointer;\n",
              "      display: none;\n",
              "      fill: #1967D2;\n",
              "      height: 32px;\n",
              "      padding: 0 0 0 0;\n",
              "      width: 32px;\n",
              "    }\n",
              "\n",
              "    .colab-df-convert:hover {\n",
              "      background-color: #E2EBFA;\n",
              "      box-shadow: 0px 1px 2px rgba(60, 64, 67, 0.3), 0px 1px 3px 1px rgba(60, 64, 67, 0.15);\n",
              "      fill: #174EA6;\n",
              "    }\n",
              "\n",
              "    [theme=dark] .colab-df-convert {\n",
              "      background-color: #3B4455;\n",
              "      fill: #D2E3FC;\n",
              "    }\n",
              "\n",
              "    [theme=dark] .colab-df-convert:hover {\n",
              "      background-color: #434B5C;\n",
              "      box-shadow: 0px 1px 3px 1px rgba(0, 0, 0, 0.15);\n",
              "      filter: drop-shadow(0px 1px 2px rgba(0, 0, 0, 0.3));\n",
              "      fill: #FFFFFF;\n",
              "    }\n",
              "  </style>\n",
              "\n",
              "      <script>\n",
              "        const buttonEl =\n",
              "          document.querySelector('#df-6738b06b-8f69-4dcd-94a8-d5b486c6a182 button.colab-df-convert');\n",
              "        buttonEl.style.display =\n",
              "          google.colab.kernel.accessAllowed ? 'block' : 'none';\n",
              "\n",
              "        async function convertToInteractive(key) {\n",
              "          const element = document.querySelector('#df-6738b06b-8f69-4dcd-94a8-d5b486c6a182');\n",
              "          const dataTable =\n",
              "            await google.colab.kernel.invokeFunction('convertToInteractive',\n",
              "                                                     [key], {});\n",
              "          if (!dataTable) return;\n",
              "\n",
              "          const docLinkHtml = 'Like what you see? Visit the ' +\n",
              "            '<a target=\"_blank\" href=https://colab.research.google.com/notebooks/data_table.ipynb>data table notebook</a>'\n",
              "            + ' to learn more about interactive tables.';\n",
              "          element.innerHTML = '';\n",
              "          dataTable['output_type'] = 'display_data';\n",
              "          await google.colab.output.renderOutput(dataTable, element);\n",
              "          const docLink = document.createElement('div');\n",
              "          docLink.innerHTML = docLinkHtml;\n",
              "          element.appendChild(docLink);\n",
              "        }\n",
              "      </script>\n",
              "    </div>\n",
              "  </div>\n",
              "  "
            ]
          },
          "metadata": {},
          "execution_count": 6
        }
      ]
    },
    {
      "cell_type": "code",
      "source": [
        "# Guarda los datos integrados en un archivo CSV.\n",
        "\n",
        "# Revisa en el folder de la lateral izquierda, para comprobar\n",
        "# la creación del archivo.\n",
        "\n",
        "master.to_csv('master_datos.csv')"
      ],
      "metadata": {
        "id": "FeHC0xnMqnbV"
      },
      "execution_count": 7,
      "outputs": []
    },
    {
      "cell_type": "code",
      "source": [
        "# Guarda los datos integrados en un archivo Excel.\n",
        "\n",
        "# Revisa en el folder de la lateral izquierda, para comprobar\n",
        "# la creación del archivo.\n",
        "\n",
        "master.to_excel('master_datos.xlsx',\n",
        "              sheet_name='Hoja 1')"
      ],
      "metadata": {
        "id": "h-BiKVORq2U0"
      },
      "execution_count": 10,
      "outputs": []
    }
  ]
}