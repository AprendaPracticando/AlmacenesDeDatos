{
  "nbformat": 4,
  "nbformat_minor": 0,
  "metadata": {
    "colab": {
      "provenance": [],
      "authorship_tag": "ABX9TyPgpQdRkQlRo9IfLZn/wTLU",
      "include_colab_link": true
    },
    "kernelspec": {
      "name": "python3",
      "display_name": "Python 3"
    },
    "language_info": {
      "name": "python"
    }
  },
  "cells": [
    {
      "cell_type": "markdown",
      "metadata": {
        "id": "view-in-github",
        "colab_type": "text"
      },
      "source": [
        "<a href=\"https://colab.research.google.com/github/AprendaPracticando/AlmacenesDeDatos/blob/main/ADV05_Clasifica.ipynb\" target=\"_parent\"><img src=\"https://colab.research.google.com/assets/colab-badge.svg\" alt=\"Open In Colab\"/></a>"
      ]
    },
    {
      "cell_type": "markdown",
      "source": [
        "# Clasificación y análisis semántico con Python\n",
        "\n",
        "---"
      ],
      "metadata": {
        "id": "Au940P8exPsV"
      }
    },
    {
      "cell_type": "code",
      "execution_count": null,
      "metadata": {
        "id": "OmP7QTcmxL4O"
      },
      "outputs": [],
      "source": [
        "# Carga de datos de trabajo\n",
        "import pandas as pd\n",
        "url='https://raw.githubusercontent.com/AprendaPracticando/AlmacenesDeDatos/main/personas_titanic.csv'\n",
        "df=pd.read_csv(url)"
      ]
    },
    {
      "cell_type": "code",
      "source": [
        "# Ver la forma de los datos del DataFrame\n",
        "\n",
        "df.shape"
      ],
      "metadata": {
        "id": "arkKrZkpxiju"
      },
      "execution_count": null,
      "outputs": []
    },
    {
      "cell_type": "code",
      "source": [
        "# Para ver los datos\n",
        "\n",
        "df"
      ],
      "metadata": {
        "id": "CuYxOsVjxnuX"
      },
      "execution_count": null,
      "outputs": []
    },
    {
      "cell_type": "code",
      "source": [
        "# Para ver los primeros registros del DataFrame\n",
        "\n",
        "df.head()"
      ],
      "metadata": {
        "id": "hTWeV4bVxrTN"
      },
      "execution_count": null,
      "outputs": []
    },
    {
      "cell_type": "code",
      "source": [
        "# Para ver los últimos registros del DataFrame\n",
        "\n",
        "df.tail()"
      ],
      "metadata": {
        "id": "vt7lRt8fxxvG"
      },
      "execution_count": null,
      "outputs": []
    },
    {
      "cell_type": "code",
      "source": [
        "# Para ver la lista de campos, con sus tipos\n",
        "\n",
        "df.dtypes"
      ],
      "metadata": {
        "id": "LT3NrY-Kx3dQ"
      },
      "execution_count": null,
      "outputs": []
    },
    {
      "cell_type": "code",
      "source": [
        "# Para ver la informacion de las columnas, con sus tipos y datos no nulos\n",
        "\n",
        "df.info()"
      ],
      "metadata": {
        "id": "37afXxSqx-zY"
      },
      "execution_count": null,
      "outputs": []
    },
    {
      "cell_type": "code",
      "source": [
        "# Ver una sola columna, formato estándar\n",
        "\n",
        "df['nombre']"
      ],
      "metadata": {
        "id": "OzBFW0QXyIJX"
      },
      "execution_count": null,
      "outputs": []
    },
    {
      "cell_type": "code",
      "source": [
        "# Ver una sola columna, usando dot-notation\n",
        "\n",
        "df.nombre"
      ],
      "metadata": {
        "id": "yNgmSCJnyOtf"
      },
      "execution_count": null,
      "outputs": []
    },
    {
      "cell_type": "code",
      "source": [
        "# Para ver dos o más columnas\n",
        "\n",
        "df[['nombre','edad','sexo']]"
      ],
      "metadata": {
        "id": "JmmULKm6yW0g"
      },
      "execution_count": null,
      "outputs": []
    },
    {
      "cell_type": "code",
      "source": [
        "# Filtro de registros.  Ver solo los registros donde sexo sea 'mujer'\n",
        "\n",
        "df[(df['sexo']=='mujer')]"
      ],
      "metadata": {
        "id": "u8gXjvFzyd0E"
      },
      "execution_count": null,
      "outputs": []
    },
    {
      "cell_type": "code",
      "source": [
        "# Filtro de registros y columnas.  Ver solo los registros donde \n",
        "# sexo sea 'mujer'. Mostrar sólo nombre y edad.\n",
        "\n",
        "df[['nombre','edad']][(df['sexo']=='mujer')]"
      ],
      "metadata": {
        "id": "5KHeosCuyusC"
      },
      "execution_count": null,
      "outputs": []
    }
  ]
}